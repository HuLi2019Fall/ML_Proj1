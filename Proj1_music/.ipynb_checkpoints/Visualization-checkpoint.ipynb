{
 "cells": [
  {
   "cell_type": "code",
   "execution_count": 1,
   "metadata": {},
   "outputs": [],
   "source": [
    "import pandas as pd\n",
    "import numpy as np\n",
    "\n",
    "import matplotlib.pyplot as plt\n",
    "import seaborn as sns"
   ]
  },
  {
   "cell_type": "code",
   "execution_count": 2,
   "metadata": {},
   "outputs": [],
   "source": [
    "path = \"Data\\music.csv\"\n",
    "data_set = pd.read_csv(path)"
   ]
  },
  {
   "cell_type": "code",
   "execution_count": 3,
   "metadata": {},
   "outputs": [
    {
     "data": {
      "text/html": [
       "<div>\n",
       "<style scoped>\n",
       "    .dataframe tbody tr th:only-of-type {\n",
       "        vertical-align: middle;\n",
       "    }\n",
       "\n",
       "    .dataframe tbody tr th {\n",
       "        vertical-align: top;\n",
       "    }\n",
       "\n",
       "    .dataframe thead th {\n",
       "        text-align: right;\n",
       "    }\n",
       "</style>\n",
       "<table border=\"1\" class=\"dataframe\">\n",
       "  <thead>\n",
       "    <tr style=\"text-align: right;\">\n",
       "      <th></th>\n",
       "      <th>id</th>\n",
       "      <th>acousticness</th>\n",
       "      <th>danceability</th>\n",
       "      <th>duration_ms</th>\n",
       "      <th>energy</th>\n",
       "      <th>instrumentalness</th>\n",
       "      <th>key</th>\n",
       "      <th>liveness</th>\n",
       "      <th>loudness</th>\n",
       "      <th>mode</th>\n",
       "      <th>speechiness</th>\n",
       "      <th>tempo</th>\n",
       "      <th>time_signature</th>\n",
       "      <th>valence</th>\n",
       "      <th>target</th>\n",
       "      <th>song_title</th>\n",
       "      <th>artist</th>\n",
       "    </tr>\n",
       "  </thead>\n",
       "  <tbody>\n",
       "    <tr>\n",
       "      <th>0</th>\n",
       "      <td>0</td>\n",
       "      <td>0.01020</td>\n",
       "      <td>0.833</td>\n",
       "      <td>204600</td>\n",
       "      <td>0.434</td>\n",
       "      <td>0.021900</td>\n",
       "      <td>2</td>\n",
       "      <td>0.1650</td>\n",
       "      <td>-8.795</td>\n",
       "      <td>1</td>\n",
       "      <td>0.4310</td>\n",
       "      <td>150.062</td>\n",
       "      <td>4</td>\n",
       "      <td>0.286</td>\n",
       "      <td>1</td>\n",
       "      <td>Mask Off</td>\n",
       "      <td>Future</td>\n",
       "    </tr>\n",
       "    <tr>\n",
       "      <th>1</th>\n",
       "      <td>1</td>\n",
       "      <td>0.19900</td>\n",
       "      <td>0.743</td>\n",
       "      <td>326933</td>\n",
       "      <td>0.359</td>\n",
       "      <td>0.006110</td>\n",
       "      <td>1</td>\n",
       "      <td>0.1370</td>\n",
       "      <td>-10.401</td>\n",
       "      <td>1</td>\n",
       "      <td>0.0794</td>\n",
       "      <td>160.083</td>\n",
       "      <td>4</td>\n",
       "      <td>0.588</td>\n",
       "      <td>1</td>\n",
       "      <td>Redbone</td>\n",
       "      <td>Childish Gambino</td>\n",
       "    </tr>\n",
       "    <tr>\n",
       "      <th>2</th>\n",
       "      <td>2</td>\n",
       "      <td>0.03440</td>\n",
       "      <td>0.838</td>\n",
       "      <td>185707</td>\n",
       "      <td>0.412</td>\n",
       "      <td>0.000234</td>\n",
       "      <td>2</td>\n",
       "      <td>0.1590</td>\n",
       "      <td>-7.148</td>\n",
       "      <td>1</td>\n",
       "      <td>0.2890</td>\n",
       "      <td>75.044</td>\n",
       "      <td>4</td>\n",
       "      <td>0.173</td>\n",
       "      <td>1</td>\n",
       "      <td>Xanny Family</td>\n",
       "      <td>Future</td>\n",
       "    </tr>\n",
       "    <tr>\n",
       "      <th>3</th>\n",
       "      <td>3</td>\n",
       "      <td>0.60400</td>\n",
       "      <td>0.494</td>\n",
       "      <td>199413</td>\n",
       "      <td>0.338</td>\n",
       "      <td>0.510000</td>\n",
       "      <td>5</td>\n",
       "      <td>0.0922</td>\n",
       "      <td>-15.236</td>\n",
       "      <td>1</td>\n",
       "      <td>0.0261</td>\n",
       "      <td>86.468</td>\n",
       "      <td>4</td>\n",
       "      <td>0.230</td>\n",
       "      <td>1</td>\n",
       "      <td>Master Of None</td>\n",
       "      <td>Beach House</td>\n",
       "    </tr>\n",
       "    <tr>\n",
       "      <th>4</th>\n",
       "      <td>4</td>\n",
       "      <td>0.18000</td>\n",
       "      <td>0.678</td>\n",
       "      <td>392893</td>\n",
       "      <td>0.561</td>\n",
       "      <td>0.512000</td>\n",
       "      <td>5</td>\n",
       "      <td>0.4390</td>\n",
       "      <td>-11.648</td>\n",
       "      <td>0</td>\n",
       "      <td>0.0694</td>\n",
       "      <td>174.004</td>\n",
       "      <td>4</td>\n",
       "      <td>0.904</td>\n",
       "      <td>1</td>\n",
       "      <td>Parallel Lines</td>\n",
       "      <td>Junior Boys</td>\n",
       "    </tr>\n",
       "    <tr>\n",
       "      <th>...</th>\n",
       "      <td>...</td>\n",
       "      <td>...</td>\n",
       "      <td>...</td>\n",
       "      <td>...</td>\n",
       "      <td>...</td>\n",
       "      <td>...</td>\n",
       "      <td>...</td>\n",
       "      <td>...</td>\n",
       "      <td>...</td>\n",
       "      <td>...</td>\n",
       "      <td>...</td>\n",
       "      <td>...</td>\n",
       "      <td>...</td>\n",
       "      <td>...</td>\n",
       "      <td>...</td>\n",
       "      <td>...</td>\n",
       "      <td>...</td>\n",
       "    </tr>\n",
       "    <tr>\n",
       "      <th>2012</th>\n",
       "      <td>2012</td>\n",
       "      <td>0.00106</td>\n",
       "      <td>0.584</td>\n",
       "      <td>274404</td>\n",
       "      <td>0.932</td>\n",
       "      <td>0.002690</td>\n",
       "      <td>1</td>\n",
       "      <td>0.1290</td>\n",
       "      <td>-3.501</td>\n",
       "      <td>1</td>\n",
       "      <td>0.3330</td>\n",
       "      <td>74.976</td>\n",
       "      <td>4</td>\n",
       "      <td>0.211</td>\n",
       "      <td>0</td>\n",
       "      <td>Like A Bitch - Kill The Noise Remix</td>\n",
       "      <td>Kill The Noise</td>\n",
       "    </tr>\n",
       "    <tr>\n",
       "      <th>2013</th>\n",
       "      <td>2013</td>\n",
       "      <td>0.08770</td>\n",
       "      <td>0.894</td>\n",
       "      <td>182182</td>\n",
       "      <td>0.892</td>\n",
       "      <td>0.001670</td>\n",
       "      <td>1</td>\n",
       "      <td>0.0528</td>\n",
       "      <td>-2.663</td>\n",
       "      <td>1</td>\n",
       "      <td>0.1310</td>\n",
       "      <td>110.041</td>\n",
       "      <td>4</td>\n",
       "      <td>0.867</td>\n",
       "      <td>0</td>\n",
       "      <td>Candy</td>\n",
       "      <td>Dillon Francis</td>\n",
       "    </tr>\n",
       "    <tr>\n",
       "      <th>2014</th>\n",
       "      <td>2014</td>\n",
       "      <td>0.00857</td>\n",
       "      <td>0.637</td>\n",
       "      <td>207200</td>\n",
       "      <td>0.935</td>\n",
       "      <td>0.003990</td>\n",
       "      <td>0</td>\n",
       "      <td>0.2140</td>\n",
       "      <td>-2.467</td>\n",
       "      <td>1</td>\n",
       "      <td>0.1070</td>\n",
       "      <td>150.082</td>\n",
       "      <td>4</td>\n",
       "      <td>0.470</td>\n",
       "      <td>0</td>\n",
       "      <td>Habit - Dack Janiels &amp; Wenzday Remix</td>\n",
       "      <td>Rain Man</td>\n",
       "    </tr>\n",
       "    <tr>\n",
       "      <th>2015</th>\n",
       "      <td>2015</td>\n",
       "      <td>0.00164</td>\n",
       "      <td>0.557</td>\n",
       "      <td>185600</td>\n",
       "      <td>0.992</td>\n",
       "      <td>0.677000</td>\n",
       "      <td>1</td>\n",
       "      <td>0.0913</td>\n",
       "      <td>-2.735</td>\n",
       "      <td>1</td>\n",
       "      <td>0.1330</td>\n",
       "      <td>150.011</td>\n",
       "      <td>4</td>\n",
       "      <td>0.623</td>\n",
       "      <td>0</td>\n",
       "      <td>First Contact</td>\n",
       "      <td>Twin Moons</td>\n",
       "    </tr>\n",
       "    <tr>\n",
       "      <th>2016</th>\n",
       "      <td>2016</td>\n",
       "      <td>0.00281</td>\n",
       "      <td>0.446</td>\n",
       "      <td>204520</td>\n",
       "      <td>0.915</td>\n",
       "      <td>0.000039</td>\n",
       "      <td>9</td>\n",
       "      <td>0.2180</td>\n",
       "      <td>-6.221</td>\n",
       "      <td>1</td>\n",
       "      <td>0.1410</td>\n",
       "      <td>190.013</td>\n",
       "      <td>4</td>\n",
       "      <td>0.402</td>\n",
       "      <td>0</td>\n",
       "      <td>I Wanna Get Better</td>\n",
       "      <td>Bleachers</td>\n",
       "    </tr>\n",
       "  </tbody>\n",
       "</table>\n",
       "<p>2017 rows × 17 columns</p>\n",
       "</div>"
      ],
      "text/plain": [
       "        id  acousticness  danceability  duration_ms  energy  instrumentalness  \\\n",
       "0        0       0.01020         0.833       204600   0.434          0.021900   \n",
       "1        1       0.19900         0.743       326933   0.359          0.006110   \n",
       "2        2       0.03440         0.838       185707   0.412          0.000234   \n",
       "3        3       0.60400         0.494       199413   0.338          0.510000   \n",
       "4        4       0.18000         0.678       392893   0.561          0.512000   \n",
       "...    ...           ...           ...          ...     ...               ...   \n",
       "2012  2012       0.00106         0.584       274404   0.932          0.002690   \n",
       "2013  2013       0.08770         0.894       182182   0.892          0.001670   \n",
       "2014  2014       0.00857         0.637       207200   0.935          0.003990   \n",
       "2015  2015       0.00164         0.557       185600   0.992          0.677000   \n",
       "2016  2016       0.00281         0.446       204520   0.915          0.000039   \n",
       "\n",
       "      key  liveness  loudness  mode  speechiness    tempo  time_signature  \\\n",
       "0       2    0.1650    -8.795     1       0.4310  150.062               4   \n",
       "1       1    0.1370   -10.401     1       0.0794  160.083               4   \n",
       "2       2    0.1590    -7.148     1       0.2890   75.044               4   \n",
       "3       5    0.0922   -15.236     1       0.0261   86.468               4   \n",
       "4       5    0.4390   -11.648     0       0.0694  174.004               4   \n",
       "...   ...       ...       ...   ...          ...      ...             ...   \n",
       "2012    1    0.1290    -3.501     1       0.3330   74.976               4   \n",
       "2013    1    0.0528    -2.663     1       0.1310  110.041               4   \n",
       "2014    0    0.2140    -2.467     1       0.1070  150.082               4   \n",
       "2015    1    0.0913    -2.735     1       0.1330  150.011               4   \n",
       "2016    9    0.2180    -6.221     1       0.1410  190.013               4   \n",
       "\n",
       "      valence  target                            song_title            artist  \n",
       "0       0.286       1                              Mask Off            Future  \n",
       "1       0.588       1                               Redbone  Childish Gambino  \n",
       "2       0.173       1                          Xanny Family            Future  \n",
       "3       0.230       1                        Master Of None       Beach House  \n",
       "4       0.904       1                        Parallel Lines       Junior Boys  \n",
       "...       ...     ...                                   ...               ...  \n",
       "2012    0.211       0   Like A Bitch - Kill The Noise Remix    Kill The Noise  \n",
       "2013    0.867       0                                 Candy    Dillon Francis  \n",
       "2014    0.470       0  Habit - Dack Janiels & Wenzday Remix          Rain Man  \n",
       "2015    0.623       0                         First Contact        Twin Moons  \n",
       "2016    0.402       0                    I Wanna Get Better         Bleachers  \n",
       "\n",
       "[2017 rows x 17 columns]"
      ]
     },
     "execution_count": 3,
     "metadata": {},
     "output_type": "execute_result"
    }
   ],
   "source": [
    "data_set"
   ]
  },
  {
   "cell_type": "code",
   "execution_count": 4,
   "metadata": {},
   "outputs": [
    {
     "name": "stdout",
     "output_type": "stream",
     "text": [
      "0.6122954883490332\n",
      "0.3877045116509668\n"
     ]
    }
   ],
   "source": [
    "counter = data_set['mode'].value_counts()\n",
    "print(counter[1] / (counter[1] + counter[0]))\n",
    "print(counter[0] / (counter[1] + counter[0]))"
   ]
  },
  {
   "cell_type": "code",
   "execution_count": 5,
   "metadata": {},
   "outputs": [
    {
     "data": {
      "image/png": "[encoded data removed]",
      "text/plain": [
       "<Figure size 400x300 with 1 Axes>"
      ]
     },
     "metadata": {},
     "output_type": "display_data"
    }
   ],
   "source": [
    "#  Response distribution\n",
    "fig, axes = plt.subplots(figsize = (4, 3), dpi = 100)\n",
    "plt.tight_layout()\n",
    "data_set.groupby('mode').count()['id'].plot(kind = 'pie', labels = ['Minor Mode (38.8%)', 'Major Mode (61.2%)'])\n",
    "axes.set_ylabel('')\n",
    "axes.tick_params(axis = 'x', labelsize = 12)\n",
    "axes.tick_params(axis = 'y', labelsize = 12)\n",
    "axes.set_title('Mode Distribution in Data Set', fontsize = 12)\n",
    "plt.show()"
   ]
  },
  {
   "cell_type": "code",
   "execution_count": 6,
   "metadata": {},
   "outputs": [
    {
     "name": "stdout",
     "output_type": "stream",
     "text": [
      "4    1891\n",
      "3      93\n",
      "5      32\n",
      "1       1\n",
      "Name: time_signature, dtype: int64\n",
      "0.9375309866137829\n",
      "0.04610808130887457\n",
      "0.015865146256817054\n",
      "0.0004957858205255329\n"
     ]
    }
   ],
   "source": [
    "# time_signature\n",
    "counter = data_set['time_signature'].value_counts()\n",
    "print(counter)\n",
    "print(counter[4] / len(data_set['id']))\n",
    "print(counter[3] / len(data_set['id']))\n",
    "print(counter[5] / len(data_set['id']))\n",
    "print(counter[1] / len(data_set['id']))"
   ]
  },
  {
   "cell_type": "code",
   "execution_count": 7,
   "metadata": {},
   "outputs": [
    {
     "data": {
      "image/png": "[encoded data removed]",
      "text/plain": [
       "<Figure size 1200x600 with 1 Axes>"
      ]
     },
     "metadata": {},
     "output_type": "display_data"
    }
   ],
   "source": [
    "#  Response distribution\n",
    "fig, axes = plt.subplots(figsize = (6, 3), dpi = 200)\n",
    "plt.tight_layout()\n",
    "data_set.groupby('time_signature').count()['id'].plot(kind = 'pie', labels = ['time signature 1 (0.04%)', 'time signature 5 (1.58%)', 'time signature 3 (4.61%)', 'time signature 4 (93.75%)'])\n",
    "axes.set_ylabel('')\n",
    "axes.tick_params(axis = 'x', labelsize = 15)\n",
    "axes.tick_params(axis = 'y', labelsize = 15)\n",
    "axes.set_title('time_signature Distribution in Data Set', fontsize = 16)\n",
    "plt.show()"
   ]
  },
  {
   "cell_type": "code",
   "execution_count": 26,
   "metadata": {},
   "outputs": [
    {
     "name": "stdout",
     "output_type": "stream",
     "text": [
      "0       0.0102\n",
      "1       0.1990\n",
      "2       0.0344\n",
      "3       0.6040\n",
      "4       0.1800\n",
      "         ...  \n",
      "1015    0.2580\n",
      "1016    0.0103\n",
      "1017    0.3290\n",
      "1018    0.3500\n",
      "1019    0.1000\n",
      "Name: acousticness, Length: 1020, dtype: float64\n",
      "1020    0.819000\n",
      "1021    0.067700\n",
      "1022    0.013000\n",
      "1023    0.231000\n",
      "1024    0.000907\n",
      "          ...   \n",
      "2012    0.001060\n",
      "2013    0.087700\n",
      "2014    0.008570\n",
      "2015    0.001640\n",
      "2016    0.002810\n",
      "Name: acousticness, Length: 997, dtype: float64\n"
     ]
    }
   ],
   "source": [
    "like_set = np.asarray(np.where(data_set['target'] > 0.5))\n",
    "like_set = like_set[0].tolist()\n",
    "dislike_set = np.asarray(np.where(data_set['target'] < 0.5))\n",
    "dislike_set = dislike_set[0].tolist()"
   ]
  },
  {
   "cell_type": "code",
   "execution_count": 37,
   "metadata": {},
   "outputs": [
    {
     "name": "stderr",
     "output_type": "stream",
     "text": [
      "C:\\Software\\miniconda3\\envs\\mlenv\\lib\\site-packages\\seaborn\\distributions.py:2551: FutureWarning: `distplot` is a deprecated function and will be removed in a future version. Please adapt your code to use either `displot` (a figure-level function with similar flexibility) or `histplot` (an axes-level function for histograms).\n",
      "  warnings.warn(msg, FutureWarning)\n",
      "C:\\Software\\miniconda3\\envs\\mlenv\\lib\\site-packages\\seaborn\\distributions.py:2551: FutureWarning: `distplot` is a deprecated function and will be removed in a future version. Please adapt your code to use either `displot` (a figure-level function with similar flexibility) or `histplot` (an axes-level function for histograms).\n",
      "  warnings.warn(msg, FutureWarning)\n"
     ]
    },
    {
     "data": {
      "text/plain": [
       "<matplotlib.legend.Legend at 0x1ea50e660c8>"
      ]
     },
     "execution_count": 37,
     "metadata": {},
     "output_type": "execute_result"
    },
    {
     "data": {
      "image/png": "[encoded data removed]",
      "text/plain": [
       "<Figure size 800x500 with 1 Axes>"
      ]
     },
     "metadata": {
      "needs_background": "light"
     },
     "output_type": "display_data"
    }
   ],
   "source": [
    "# acousticness\n",
    "ac_set = data_set['acousticness']\n",
    "ac_like_set = ac_set[like_set]\n",
    "ac_dislike_set = ac_set[dislike_set]\n",
    "\n",
    "plt.figure(figsize = (8, 5), dpi = 100)\n",
    "sns.distplot(ac_set, color=\"red\", label='like songs')\n",
    "sns.distplot(ac_dislike_set, color=\"skyblue\", label = 'dislike songs')\n",
    "plt.title('acousticness distribution', fontsize = 20)\n",
    "plt.xlabel('acousticness', fontsize=18)\n",
    "plt.ylabel('count', fontsize=16)\n",
    "plt.legend()"
   ]
  },
  {
   "cell_type": "code",
   "execution_count": null,
   "metadata": {},
   "outputs": [],
   "source": [
    "# danceability\n",
    "plt.figure(figsize = (8, 5), dpi = 100)\n",
    "sns.distplot(data_set['danceability'])\n",
    "plt.title('danceability distribution', fontsize = 20)\n",
    "plt.xlabel('danceability', fontsize=18)\n",
    "plt.ylabel('distribution', fontsize=16)\n",
    "plt.show()"
   ]
  },
  {
   "cell_type": "code",
   "execution_count": null,
   "metadata": {},
   "outputs": [],
   "source": [
    "# duration_ms\n",
    "plt.figure(figsize = (8, 5), dpi = 100)\n",
    "sns.distplot(data_set['duration_ms'])\n",
    "plt.title('duration_ms distribution', fontsize = 20)\n",
    "plt.xlabel('duration_ms', fontsize=18)\n",
    "plt.ylabel('distribution', fontsize=16)\n",
    "plt.show()"
   ]
  },
  {
   "cell_type": "code",
   "execution_count": null,
   "metadata": {},
   "outputs": [],
   "source": [
    "# energy\n",
    "plt.figure(figsize = (8, 5), dpi = 100)\n",
    "sns.distplot(data_set['energy'])\n",
    "plt.title('energy distribution', fontsize = 20)\n",
    "plt.xlabel('energy', fontsize=18)\n",
    "plt.ylabel('distribution', fontsize=16)\n",
    "plt.show()"
   ]
  },
  {
   "cell_type": "code",
   "execution_count": null,
   "metadata": {},
   "outputs": [],
   "source": [
    "# Distribution of key\n",
    "\n",
    "plt.rcParams['figure.figsize'] = (13, 7)\n",
    "color = plt.cm.copper(np.linspace(0, 1, 20))\n",
    "data_set['key'].value_counts().head(20).plot.bar(color = color)\n",
    "plt.title('key distribution', fontsize = 25)\n",
    "plt.xlabel('key', fontsize=18)\n",
    "plt.ylabel('frequency', fontsize=18)\n",
    "plt.xticks(rotation = 90, fontsize=14)\n",
    "plt.yticks(fontsize=14)\n",
    "plt.show()"
   ]
  },
  {
   "cell_type": "code",
   "execution_count": null,
   "metadata": {},
   "outputs": [],
   "source": [
    "# instrumentalness\n",
    "plt.figure(figsize = (8, 5), dpi = 100)\n",
    "sns.distplot(data_set['instrumentalness'])\n",
    "plt.title('instrumentalness distribution', fontsize = 20)\n",
    "plt.xlabel('instrumentalness', fontsize=18)\n",
    "plt.ylabel('distribution', fontsize=16)\n",
    "plt.show()"
   ]
  },
  {
   "cell_type": "code",
   "execution_count": null,
   "metadata": {},
   "outputs": [],
   "source": [
    "# liveness\n",
    "plt.figure(figsize = (8, 5), dpi = 100)\n",
    "sns.distplot(data_set['liveness'])\n",
    "plt.title('liveness distribution', fontsize = 20)\n",
    "plt.xlabel('liveness', fontsize=18)\n",
    "plt.ylabel('distribution', fontsize=16)\n",
    "plt.show()"
   ]
  },
  {
   "cell_type": "code",
   "execution_count": null,
   "metadata": {},
   "outputs": [],
   "source": [
    "# loudness\n",
    "plt.figure(figsize = (8, 5), dpi = 100)\n",
    "sns.distplot(data_set['loudness'])\n",
    "plt.title('loudness distribution', fontsize = 20)\n",
    "plt.xlabel('loudness', fontsize=18)\n",
    "plt.ylabel('distribution', fontsize=16)\n",
    "plt.show()"
   ]
  },
  {
   "cell_type": "code",
   "execution_count": null,
   "metadata": {},
   "outputs": [],
   "source": [
    "# speechiness\n",
    "plt.figure(figsize = (8, 5), dpi = 100)\n",
    "sns.distplot(data_set['speechiness'])\n",
    "plt.title('speechiness distribution', fontsize = 20)\n",
    "plt.xlabel('speechiness', fontsize=18)\n",
    "plt.ylabel('distribution', fontsize=16)\n",
    "plt.show()"
   ]
  },
  {
   "cell_type": "code",
   "execution_count": null,
   "metadata": {},
   "outputs": [],
   "source": [
    "# tempo\n",
    "plt.figure(figsize = (8, 5), dpi = 100)\n",
    "sns.distplot(data_set['tempo'])\n",
    "plt.title('tempo distribution', fontsize = 20)\n",
    "plt.xlabel('tempo', fontsize=18)\n",
    "plt.ylabel('distribution', fontsize=16)\n",
    "plt.show()"
   ]
  },
  {
   "cell_type": "code",
   "execution_count": null,
   "metadata": {},
   "outputs": [],
   "source": [
    "# valence\n",
    "plt.figure(figsize = (8, 5), dpi = 100)\n",
    "sns.distplot(data_set['valence'])\n",
    "plt.title('valence distribution', fontsize = 20)\n",
    "plt.xlabel('valence', fontsize=18)\n",
    "plt.ylabel('distribution', fontsize=16)\n",
    "plt.show()"
   ]
  }
 ],
 "metadata": {
  "kernelspec": {
   "display_name": "Python 3",
   "language": "python",
   "name": "python3"
  },
  "language_info": {
   "codemirror_mode": {
    "name": "ipython",
    "version": 3
   },
   "file_extension": ".py",
   "mimetype": "text/x-python",
   "name": "python",
   "nbconvert_exporter": "python",
   "pygments_lexer": "ipython3",
   "version": "3.7.8"
  }
 },
 "nbformat": 4,
 "nbformat_minor": 4
}
