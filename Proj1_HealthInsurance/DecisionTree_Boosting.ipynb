{
 "cells": [
  {
   "cell_type": "markdown",
   "metadata": {},
   "source": [
    "## Data analysis for spotify music dataset\n",
    "\n",
    "This part is for data analysis. See more detail for data visualization in \"preprocessing\" ipynb"
   ]
  },
  {
   "cell_type": "code",
   "execution_count": 1,
   "metadata": {},
   "outputs": [],
   "source": [
    "import pandas as pd\n",
    "import numpy as np\n",
    "\n",
    "import matplotlib.pyplot as plt\n",
    "import seaborn as sns\n",
    "\n",
    "from sklearn.model_selection import train_test_split\n",
    "from sklearn.metrics import accuracy_score\n",
    "from sklearn.tree import DecisionTreeClassifier\n",
    "from sklearn.tree import export_graphviz\n",
    "\n",
    "import graphviz\n",
    "import pydotplus\n",
    "import io\n",
    "import imageio\n",
    "\n",
    "from sklearn.preprocessing import MinMaxScaler, StandardScaler\n",
    "from sklearn.model_selection import train_test_split\n",
    "from sklearn.model_selection import cross_val_score\n",
    "from sklearn.metrics import confusion_matrix\n",
    "\n",
    "from sklearn.neighbors import KNeighborsClassifier\n",
    "from sklearn.svm import NuSVC\n",
    "\n",
    "from sklearn.datasets import make_classification\n",
    "from sklearn.ensemble import GradientBoostingClassifier\n",
    "from sklearn.experimental import enable_hist_gradient_boosting\n",
    "from sklearn.ensemble import HistGradientBoostingClassifier"
   ]
  },
  {
   "cell_type": "code",
   "execution_count": 2,
   "metadata": {},
   "outputs": [],
   "source": [
    "path = \"Data\\cross_sell.csv\"\n",
    "data_set = pd.read_csv(path)"
   ]
  },
  {
   "cell_type": "code",
   "execution_count": 3,
   "metadata": {},
   "outputs": [
    {
     "data": {
      "text/html": [
       "<div>\n",
       "<style scoped>\n",
       "    .dataframe tbody tr th:only-of-type {\n",
       "        vertical-align: middle;\n",
       "    }\n",
       "\n",
       "    .dataframe tbody tr th {\n",
       "        vertical-align: top;\n",
       "    }\n",
       "\n",
       "    .dataframe thead th {\n",
       "        text-align: right;\n",
       "    }\n",
       "</style>\n",
       "<table border=\"1\" class=\"dataframe\">\n",
       "  <thead>\n",
       "    <tr style=\"text-align: right;\">\n",
       "      <th></th>\n",
       "      <th>id</th>\n",
       "      <th>gender</th>\n",
       "      <th>age</th>\n",
       "      <th>dl</th>\n",
       "      <th>region_code</th>\n",
       "      <th>insured</th>\n",
       "      <th>vehicle_age</th>\n",
       "      <th>damage</th>\n",
       "      <th>premium</th>\n",
       "      <th>channel</th>\n",
       "      <th>vintage</th>\n",
       "      <th>response</th>\n",
       "    </tr>\n",
       "  </thead>\n",
       "  <tbody>\n",
       "    <tr>\n",
       "      <th>0</th>\n",
       "      <td>1</td>\n",
       "      <td>Male</td>\n",
       "      <td>44</td>\n",
       "      <td>1</td>\n",
       "      <td>28</td>\n",
       "      <td>0</td>\n",
       "      <td>&gt; 2 Years</td>\n",
       "      <td>Yes</td>\n",
       "      <td>40454</td>\n",
       "      <td>26</td>\n",
       "      <td>217</td>\n",
       "      <td>1</td>\n",
       "    </tr>\n",
       "    <tr>\n",
       "      <th>1</th>\n",
       "      <td>2</td>\n",
       "      <td>Male</td>\n",
       "      <td>76</td>\n",
       "      <td>1</td>\n",
       "      <td>3</td>\n",
       "      <td>0</td>\n",
       "      <td>1-2 Year</td>\n",
       "      <td>No</td>\n",
       "      <td>33536</td>\n",
       "      <td>26</td>\n",
       "      <td>183</td>\n",
       "      <td>0</td>\n",
       "    </tr>\n",
       "    <tr>\n",
       "      <th>2</th>\n",
       "      <td>3</td>\n",
       "      <td>Male</td>\n",
       "      <td>47</td>\n",
       "      <td>1</td>\n",
       "      <td>28</td>\n",
       "      <td>0</td>\n",
       "      <td>&gt; 2 Years</td>\n",
       "      <td>Yes</td>\n",
       "      <td>38294</td>\n",
       "      <td>26</td>\n",
       "      <td>27</td>\n",
       "      <td>1</td>\n",
       "    </tr>\n",
       "    <tr>\n",
       "      <th>3</th>\n",
       "      <td>4</td>\n",
       "      <td>Male</td>\n",
       "      <td>21</td>\n",
       "      <td>1</td>\n",
       "      <td>11</td>\n",
       "      <td>1</td>\n",
       "      <td>&lt; 1 Year</td>\n",
       "      <td>No</td>\n",
       "      <td>28619</td>\n",
       "      <td>152</td>\n",
       "      <td>203</td>\n",
       "      <td>0</td>\n",
       "    </tr>\n",
       "    <tr>\n",
       "      <th>4</th>\n",
       "      <td>5</td>\n",
       "      <td>Female</td>\n",
       "      <td>29</td>\n",
       "      <td>1</td>\n",
       "      <td>41</td>\n",
       "      <td>1</td>\n",
       "      <td>&lt; 1 Year</td>\n",
       "      <td>No</td>\n",
       "      <td>27496</td>\n",
       "      <td>152</td>\n",
       "      <td>39</td>\n",
       "      <td>0</td>\n",
       "    </tr>\n",
       "  </tbody>\n",
       "</table>\n",
       "</div>"
      ],
      "text/plain": [
       "   id  gender  age  dl  region_code  insured vehicle_age damage  premium  \\\n",
       "0   1    Male   44   1           28        0   > 2 Years    Yes    40454   \n",
       "1   2    Male   76   1            3        0    1-2 Year     No    33536   \n",
       "2   3    Male   47   1           28        0   > 2 Years    Yes    38294   \n",
       "3   4    Male   21   1           11        1    < 1 Year     No    28619   \n",
       "4   5  Female   29   1           41        1    < 1 Year     No    27496   \n",
       "\n",
       "   channel  vintage  response  \n",
       "0       26      217         1  \n",
       "1       26      183         0  \n",
       "2       26       27         1  \n",
       "3      152      203         0  \n",
       "4      152       39         0  "
      ]
     },
     "execution_count": 3,
     "metadata": {},
     "output_type": "execute_result"
    }
   ],
   "source": [
    "data_set.head()"
   ]
  },
  {
   "cell_type": "code",
   "execution_count": 4,
   "metadata": {},
   "outputs": [
    {
     "name": "stdout",
     "output_type": "stream",
     "text": [
      " Unique Values --> gender : 2 :  ['Male' 'Female']\n",
      " Unique Values --> vehicle_age : 3 :  ['> 2 Years' '1-2 Year' '< 1 Year']\n",
      " Unique Values --> damage : 2 :  ['Yes' 'No']\n"
     ]
    }
   ],
   "source": [
    "# Unique values for all the columns\n",
    "for col in data_set.columns[~(data_set.columns.isin(['dl', 'insured', 'age', 'id', 'region_code', 'premium', 'channel', 'vintage', 'response']))].tolist():\n",
    "    print(\" Unique Values --> \" + col, ':', len(data_set[col].unique()), ': ', data_set[col].unique())"
   ]
  },
  {
   "cell_type": "code",
   "execution_count": 5,
   "metadata": {},
   "outputs": [
    {
     "data": {
      "text/html": [
       "<div>\n",
       "<style scoped>\n",
       "    .dataframe tbody tr th:only-of-type {\n",
       "        vertical-align: middle;\n",
       "    }\n",
       "\n",
       "    .dataframe tbody tr th {\n",
       "        vertical-align: top;\n",
       "    }\n",
       "\n",
       "    .dataframe thead th {\n",
       "        text-align: right;\n",
       "    }\n",
       "</style>\n",
       "<table border=\"1\" class=\"dataframe\">\n",
       "  <thead>\n",
       "    <tr style=\"text-align: right;\">\n",
       "      <th></th>\n",
       "      <th>id</th>\n",
       "      <th>gender</th>\n",
       "      <th>age</th>\n",
       "      <th>dl</th>\n",
       "      <th>region_code</th>\n",
       "      <th>insured</th>\n",
       "      <th>vehicle_age</th>\n",
       "      <th>damage</th>\n",
       "      <th>premium</th>\n",
       "      <th>channel</th>\n",
       "      <th>vintage</th>\n",
       "      <th>response</th>\n",
       "    </tr>\n",
       "  </thead>\n",
       "  <tbody>\n",
       "    <tr>\n",
       "      <th>0</th>\n",
       "      <td>1</td>\n",
       "      <td>0</td>\n",
       "      <td>44</td>\n",
       "      <td>1</td>\n",
       "      <td>28</td>\n",
       "      <td>0</td>\n",
       "      <td>2</td>\n",
       "      <td>1</td>\n",
       "      <td>40454</td>\n",
       "      <td>26</td>\n",
       "      <td>217</td>\n",
       "      <td>1</td>\n",
       "    </tr>\n",
       "    <tr>\n",
       "      <th>1</th>\n",
       "      <td>2</td>\n",
       "      <td>0</td>\n",
       "      <td>76</td>\n",
       "      <td>1</td>\n",
       "      <td>3</td>\n",
       "      <td>0</td>\n",
       "      <td>1</td>\n",
       "      <td>0</td>\n",
       "      <td>33536</td>\n",
       "      <td>26</td>\n",
       "      <td>183</td>\n",
       "      <td>0</td>\n",
       "    </tr>\n",
       "    <tr>\n",
       "      <th>2</th>\n",
       "      <td>3</td>\n",
       "      <td>0</td>\n",
       "      <td>47</td>\n",
       "      <td>1</td>\n",
       "      <td>28</td>\n",
       "      <td>0</td>\n",
       "      <td>2</td>\n",
       "      <td>1</td>\n",
       "      <td>38294</td>\n",
       "      <td>26</td>\n",
       "      <td>27</td>\n",
       "      <td>1</td>\n",
       "    </tr>\n",
       "    <tr>\n",
       "      <th>3</th>\n",
       "      <td>4</td>\n",
       "      <td>0</td>\n",
       "      <td>21</td>\n",
       "      <td>1</td>\n",
       "      <td>11</td>\n",
       "      <td>1</td>\n",
       "      <td>0</td>\n",
       "      <td>0</td>\n",
       "      <td>28619</td>\n",
       "      <td>152</td>\n",
       "      <td>203</td>\n",
       "      <td>0</td>\n",
       "    </tr>\n",
       "    <tr>\n",
       "      <th>4</th>\n",
       "      <td>5</td>\n",
       "      <td>1</td>\n",
       "      <td>29</td>\n",
       "      <td>1</td>\n",
       "      <td>41</td>\n",
       "      <td>1</td>\n",
       "      <td>0</td>\n",
       "      <td>0</td>\n",
       "      <td>27496</td>\n",
       "      <td>152</td>\n",
       "      <td>39</td>\n",
       "      <td>0</td>\n",
       "    </tr>\n",
       "    <tr>\n",
       "      <th>...</th>\n",
       "      <td>...</td>\n",
       "      <td>...</td>\n",
       "      <td>...</td>\n",
       "      <td>...</td>\n",
       "      <td>...</td>\n",
       "      <td>...</td>\n",
       "      <td>...</td>\n",
       "      <td>...</td>\n",
       "      <td>...</td>\n",
       "      <td>...</td>\n",
       "      <td>...</td>\n",
       "      <td>...</td>\n",
       "    </tr>\n",
       "    <tr>\n",
       "      <th>99995</th>\n",
       "      <td>99996</td>\n",
       "      <td>1</td>\n",
       "      <td>23</td>\n",
       "      <td>1</td>\n",
       "      <td>8</td>\n",
       "      <td>1</td>\n",
       "      <td>0</td>\n",
       "      <td>0</td>\n",
       "      <td>49438</td>\n",
       "      <td>152</td>\n",
       "      <td>277</td>\n",
       "      <td>0</td>\n",
       "    </tr>\n",
       "    <tr>\n",
       "      <th>99996</th>\n",
       "      <td>99997</td>\n",
       "      <td>0</td>\n",
       "      <td>54</td>\n",
       "      <td>1</td>\n",
       "      <td>49</td>\n",
       "      <td>0</td>\n",
       "      <td>1</td>\n",
       "      <td>0</td>\n",
       "      <td>23413</td>\n",
       "      <td>26</td>\n",
       "      <td>56</td>\n",
       "      <td>0</td>\n",
       "    </tr>\n",
       "    <tr>\n",
       "      <th>99997</th>\n",
       "      <td>99998</td>\n",
       "      <td>1</td>\n",
       "      <td>26</td>\n",
       "      <td>1</td>\n",
       "      <td>8</td>\n",
       "      <td>1</td>\n",
       "      <td>0</td>\n",
       "      <td>0</td>\n",
       "      <td>22694</td>\n",
       "      <td>152</td>\n",
       "      <td>41</td>\n",
       "      <td>0</td>\n",
       "    </tr>\n",
       "    <tr>\n",
       "      <th>99998</th>\n",
       "      <td>99999</td>\n",
       "      <td>0</td>\n",
       "      <td>25</td>\n",
       "      <td>1</td>\n",
       "      <td>8</td>\n",
       "      <td>1</td>\n",
       "      <td>0</td>\n",
       "      <td>0</td>\n",
       "      <td>49994</td>\n",
       "      <td>152</td>\n",
       "      <td>289</td>\n",
       "      <td>0</td>\n",
       "    </tr>\n",
       "    <tr>\n",
       "      <th>99999</th>\n",
       "      <td>100000</td>\n",
       "      <td>0</td>\n",
       "      <td>22</td>\n",
       "      <td>1</td>\n",
       "      <td>8</td>\n",
       "      <td>0</td>\n",
       "      <td>0</td>\n",
       "      <td>1</td>\n",
       "      <td>36513</td>\n",
       "      <td>160</td>\n",
       "      <td>189</td>\n",
       "      <td>0</td>\n",
       "    </tr>\n",
       "  </tbody>\n",
       "</table>\n",
       "<p>100000 rows × 12 columns</p>\n",
       "</div>"
      ],
      "text/plain": [
       "           id  gender  age  dl  region_code  insured  vehicle_age  damage  \\\n",
       "0           1       0   44   1           28        0            2       1   \n",
       "1           2       0   76   1            3        0            1       0   \n",
       "2           3       0   47   1           28        0            2       1   \n",
       "3           4       0   21   1           11        1            0       0   \n",
       "4           5       1   29   1           41        1            0       0   \n",
       "...       ...     ...  ...  ..          ...      ...          ...     ...   \n",
       "99995   99996       1   23   1            8        1            0       0   \n",
       "99996   99997       0   54   1           49        0            1       0   \n",
       "99997   99998       1   26   1            8        1            0       0   \n",
       "99998   99999       0   25   1            8        1            0       0   \n",
       "99999  100000       0   22   1            8        0            0       1   \n",
       "\n",
       "       premium  channel  vintage  response  \n",
       "0        40454       26      217         1  \n",
       "1        33536       26      183         0  \n",
       "2        38294       26       27         1  \n",
       "3        28619      152      203         0  \n",
       "4        27496      152       39         0  \n",
       "...        ...      ...      ...       ...  \n",
       "99995    49438      152      277         0  \n",
       "99996    23413       26       56         0  \n",
       "99997    22694      152       41         0  \n",
       "99998    49994      152      289         0  \n",
       "99999    36513      160      189         0  \n",
       "\n",
       "[100000 rows x 12 columns]"
      ]
     },
     "execution_count": 5,
     "metadata": {},
     "output_type": "execute_result"
    }
   ],
   "source": [
    "gender = {'Male': 0, 'Female': 1}\n",
    "vehicle_age = {'> 2 Years': 2, '1-2 Year': 1, '< 1 Year': 0}\n",
    "vehicle_damage = {'Yes': 1, 'No': 0}\n",
    "# vehicle_insured = {0:1, 1:0}\n",
    "\n",
    "data_set['gender'] = data_set['gender'].map(gender)\n",
    "data_set['vehicle_age'] = data_set['vehicle_age'].map(vehicle_age)\n",
    "data_set['damage'] = data_set['damage'].map(vehicle_damage)\n",
    "# data_set['insured'] = data_set['insured'].map(vehicle_insured)\n",
    "\n",
    "data_set['age'] = data_set['age'].apply(lambda x: np.int(x))\n",
    "data_set['dl'] = data_set['dl'].apply(lambda x: np.int(x))\n",
    "data_set['channel'] = data_set['channel'].apply(lambda x: np.int(x))\n",
    "data_set['region_code'] = data_set['region_code'].apply(lambda x: np.int(x))\n",
    "data_set['premium'] = data_set['premium'].apply(lambda x: np.int(x))\n",
    "data_set['vintage'] = data_set['vintage'].apply(lambda x: np.int(x))\n",
    "data_set['insured'] = data_set['insured'].apply(lambda x: np.int(x))\n",
    "\n",
    "data_set"
   ]
  },
  {
   "cell_type": "code",
   "execution_count": 6,
   "metadata": {},
   "outputs": [
    {
     "data": {
      "text/plain": [
       "id             int64\n",
       "gender         int64\n",
       "age            int64\n",
       "dl             int64\n",
       "region_code    int64\n",
       "insured        int64\n",
       "vehicle_age    int64\n",
       "damage         int64\n",
       "premium        int64\n",
       "channel        int64\n",
       "vintage        int64\n",
       "response       int64\n",
       "dtype: object"
      ]
     },
     "execution_count": 6,
     "metadata": {},
     "output_type": "execute_result"
    }
   ],
   "source": [
    "data_set.dtypes"
   ]
  },
  {
   "cell_type": "code",
   "execution_count": 7,
   "metadata": {},
   "outputs": [
    {
     "data": {
      "image/png": "[encoded data removed]",
      "text/plain": [
       "<Figure size 600x500 with 2 Axes>"
      ]
     },
     "metadata": {
      "needs_background": "light"
     },
     "output_type": "display_data"
    }
   ],
   "source": [
    "#Using Pearson Correlation\n",
    "plt.figure(figsize=(12,10), dpi = 50)\n",
    "cor = data_set.drop(['id'], axis=1).corr()\n",
    "sns.heatmap(cor, annot=True, cmap=plt.cm.Reds)\n",
    "plt.show()"
   ]
  },
  {
   "cell_type": "code",
   "execution_count": 19,
   "metadata": {},
   "outputs": [],
   "source": [
    "features = ['gender', 'age', 'dl', 'region_code', 'insured', 'vehicle_age', 'damage', 'premium', 'channel', 'vintage']\n",
    "X = data_set[features]\n",
    "y = data_set['response'].values\n",
    "np.random.seed(42)\n",
    "X_train, X_test, y_train, y_test = train_test_split(X, y, test_size = 0.2)"
   ]
  },
  {
   "cell_type": "markdown",
   "metadata": {},
   "source": [
    "### Decision training and prediction\n",
    "\n",
    "* the stopping condition: the max depth\n",
    "* the stopping condition: the min sample split"
   ]
  },
  {
   "cell_type": "code",
   "execution_count": null,
   "metadata": {},
   "outputs": [],
   "source": [
    "# Analysis of Stopping criteria\n",
    "# First analysis of max_depth\n",
    "\n",
    "design_depth = [1, 2, 4, 6, 8, 10, 12, 14, 16, 18, 20]\n",
    "num_model = len(design_depth)\n",
    "score_train = []\n",
    "score_test = []\n",
    "\n",
    "for x in design_depth:\n",
    "    tree_clf = DecisionTreeClassifier(criterion = 'entropy', min_samples_split = 100, max_depth = x, splitter='random')\n",
    "    tree_clf.fit(X_train, y_train)\n",
    "    score_tr = accuracy_score(y_train, tree_clf.predict(X_train))\n",
    "    score_te = accuracy_score(y_test, tree_clf.predict(X_test))\n",
    "    print(score_tr, score_te)\n",
    "    score_train.append(score_tr)\n",
    "    score_test.append(score_te)"
   ]
  },
  {
   "cell_type": "code",
   "execution_count": null,
   "metadata": {},
   "outputs": [],
   "source": [
    "fig, ax = plt.subplots(figsize = (6,4), dpi = 100)\n",
    "ax.set_xlabel(\"max depth\", fontsize=13)\n",
    "ax.set_ylabel(\"accuracy\", fontsize=13)\n",
    "ax.set_title(\"Accuracy vs max depth for training and testing sets\", fontsize=15)\n",
    "ax.plot(design_depth, score_train, marker='o', label=\"train\")\n",
    "ax.plot(design_depth, score_test, marker='o', label=\"test\")\n",
    "ax.legend()\n",
    "plt.show()"
   ]
  },
  {
   "cell_type": "code",
   "execution_count": null,
   "metadata": {},
   "outputs": [],
   "source": [
    "# Analysis of Stopping criteria\n",
    "# First analysis of min_sample_split\n",
    "\n",
    "split = [500, 400, 300, 200, 100, 50, 20, 10, 5, 2]\n",
    "num_model = len(split)\n",
    "score_train = []\n",
    "score_test = []\n",
    "\n",
    "for x in split:\n",
    "    print(x)\n",
    "    tree_clf = DecisionTreeClassifier(criterion = 'entropy', min_samples_split = x, max_depth = 6)\n",
    "    tree_clf.fit(X_train, y_train)\n",
    "    score_tr = accuracy_score(y_train, tree_clf.predict(X_train))\n",
    "    score_te = accuracy_score(y_test, tree_clf.predict(X_test))\n",
    "    print(score_tr, score_te)\n",
    "    score_train.append(score_tr)\n",
    "    score_test.append(score_te)"
   ]
  },
  {
   "cell_type": "code",
   "execution_count": null,
   "metadata": {},
   "outputs": [],
   "source": [
    "fig, ax = plt.subplots(figsize = (6,4), dpi = 100)\n",
    "ax.set_xlabel(\"min sample split\", fontsize=13)\n",
    "ax.set_ylabel(\"accuracy\", fontsize=13)\n",
    "ax.set_title(\"Accuracy vs min sample split for training and testing sets\", fontsize=15)\n",
    "ax.plot(split, score_train, marker='o', label=\"train\")\n",
    "ax.plot(split, score_test, marker='o', label=\"test\")\n",
    "ax.legend()\n",
    "plt.show()"
   ]
  },
  {
   "cell_type": "markdown",
   "metadata": {},
   "source": [
    "### Analys the effects of ccp_alfa on the pruning of the decision tree"
   ]
  },
  {
   "cell_type": "code",
   "execution_count": null,
   "metadata": {},
   "outputs": [],
   "source": [
    "clf = DecisionTreeClassifier(random_state=0)\n",
    "path = clf.cost_complexity_pruning_path(X_train, y_train)\n",
    "ccp_alphas, impurities = path.ccp_alphas, path.impurities"
   ]
  },
  {
   "cell_type": "code",
   "execution_count": null,
   "metadata": {},
   "outputs": [],
   "source": [
    "fig, ax = plt.subplots(figsize = (6,4), dpi = 100)\n",
    "ax.plot(ccp_alphas[:-1], impurities[:-1], marker='o', drawstyle=\"steps-post\")\n",
    "ax.set_xlabel(\"effective alpha\", fontsize=13)\n",
    "ax.set_ylabel(\"total impurity of leaves\", fontsize=13)\n",
    "ax.set_title(\"Total Impurity vs effective alpha for training set\", fontsize = 15)"
   ]
  },
  {
   "cell_type": "code",
   "execution_count": null,
   "metadata": {},
   "outputs": [],
   "source": [
    "print(len(ccp_alphas))\n",
    "print(ccp_alphas)\n",
    "temp = 0.0\n",
    "ccp_alphas = []\n",
    "while temp < 0.001:\n",
    "    ccp_alphas.append(temp)\n",
    "    temp += 0.0001\n",
    "print(len(ccp_alphas))\n",
    "print(ccp_alphas)"
   ]
  },
  {
   "cell_type": "code",
   "execution_count": null,
   "metadata": {},
   "outputs": [],
   "source": [
    "clfs = []\n",
    "item = 0\n",
    "for ccp_alpha in ccp_alphas:\n",
    "    item += 1\n",
    "    clf = DecisionTreeClassifier(criterion = 'entropy', min_samples_split = 10, random_state=0, ccp_alpha=ccp_alpha)\n",
    "    clf.fit(X_train, y_train)\n",
    "    clfs.append(clf)\n",
    "print(\"Number of nodes in the last tree is: {} with ccp_alpha: {}\".format(\n",
    "      clfs[-1].tree_.node_count, ccp_alphas[-1]))"
   ]
  },
  {
   "cell_type": "code",
   "execution_count": null,
   "metadata": {},
   "outputs": [],
   "source": [
    "clfs = clfs[:-1]\n",
    "ccp_alphas = ccp_alphas[:-1]\n",
    "\n",
    "node_counts = [clf.tree_.node_count for clf in clfs]\n",
    "depth = [clf.tree_.max_depth for clf in clfs]\n",
    "fig, ax = plt.subplots(2, 1)\n",
    "ax[0].plot(ccp_alphas, node_counts, marker='o', drawstyle=\"steps-post\")\n",
    "ax[0].set_xlabel(\"alpha\", fontsize=14)\n",
    "ax[0].set_ylabel(\"number of nodes\", fontsize=14)\n",
    "ax[0].set_title(\"Number of nodes vs alpha\", fontsize=16)\n",
    "ax[1].plot(ccp_alphas, depth, marker='o', drawstyle=\"steps-post\")\n",
    "ax[1].set_xlabel(\"alpha\", fontsize=14)\n",
    "ax[1].set_ylabel(\"depth of tree\", fontsize=14)\n",
    "ax[1].set_title(\"Depth vs alpha\", fontsize=16)\n",
    "fig.tight_layout()"
   ]
  },
  {
   "cell_type": "code",
   "execution_count": null,
   "metadata": {},
   "outputs": [],
   "source": [
    "train_scores = [clf.score(X_train, y_train) for clf in clfs]\n",
    "test_scores = [clf.score(X_test, y_test) for clf in clfs]\n",
    "\n",
    "fig, ax = plt.subplots(figsize = (6,4), dpi = 100)\n",
    "ax.set_xlabel(\"alpha\", fontsize=14)\n",
    "ax.set_ylabel(\"accuracy\", fontsize=14)\n",
    "ax.set_title(\"Accuracy vs alpha for training and testing sets\", fontsize=16)\n",
    "ax.plot(ccp_alphas, train_scores, marker='o', label=\"train\",\n",
    "        drawstyle=\"steps-post\")\n",
    "ax.plot(ccp_alphas, test_scores, marker='o', label=\"test\",\n",
    "        drawstyle=\"steps-post\")\n",
    "ax.legend()\n",
    "plt.show()"
   ]
  },
  {
   "cell_type": "code",
   "execution_count": 20,
   "metadata": {},
   "outputs": [
    {
     "name": "stdout",
     "output_type": "stream",
     "text": [
      "0.876475 0.87905\n"
     ]
    }
   ],
   "source": [
    "tree_clf = DecisionTreeClassifier(criterion = 'entropy', min_samples_split = 10, ccp_alpha=0.010)\n",
    "tree_clf.fit(X_train, y_train)\n",
    "score_train = accuracy_score(y_train, tree_clf.predict(X_train))\n",
    "score_test = accuracy_score(y_test, tree_clf.predict(X_test))\n",
    "print(score_train, score_test)"
   ]
  },
  {
   "cell_type": "code",
   "execution_count": 21,
   "metadata": {},
   "outputs": [
    {
     "data": {
      "image/png": "[encoded data removed]",
      "text/plain": [
       "<Figure size 1000x1000 with 1 Axes>"
      ]
     },
     "metadata": {
      "needs_background": "light"
     },
     "output_type": "display_data"
    }
   ],
   "source": [
    "def show_tree(tree, features, path):\n",
    "    f = io.StringIO()\n",
    "    \n",
    "    dot_data = export_graphviz(tree, out_file=f, feature_names=features, filled=True, rounded=True)\n",
    "    \n",
    "    pydotplus.graph_from_dot_data(f.getvalue()).write_png(path)\n",
    "    img = imageio.imread(path)\n",
    "    plt.rcParams['figure.figsize'] = (10,10)\n",
    "    plt.rcParams['figure.dpi'] = 100\n",
    "    plt.imshow(img)\n",
    "show_tree(tree_clf, features, 'decision_tree.png')  "
   ]
  },
  {
   "cell_type": "code",
   "execution_count": 22,
   "metadata": {},
   "outputs": [],
   "source": [
    "def show_tree(tree, features, path):\n",
    "    f = io.StringIO()\n",
    "    \n",
    "    dot_data = export_graphviz(tree, out_file=f, feature_names=features, filled=True, rounded=True)\n",
    "    \n",
    "    pydotplus.graph_from_dot_data(f.getvalue()).write_svg(path)\n",
    "show_tree(tree_clf, features, 'decision_tree.svg')"
   ]
  },
  {
   "cell_type": "markdown",
   "metadata": {},
   "source": [
    "#### Decision Tree prediction vs validation"
   ]
  },
  {
   "cell_type": "code",
   "execution_count": 23,
   "metadata": {},
   "outputs": [
    {
     "data": {
      "text/plain": [
       "Text(0.5, 33.22222222222222, 'Features')"
      ]
     },
     "execution_count": 23,
     "metadata": {},
     "output_type": "execute_result"
    },
    {
     "data": {
      "image/png": "[encoded data removed]",
      "text/plain": [
       "<Figure size 800x500 with 2 Axes>"
      ]
     },
     "metadata": {
      "needs_background": "light"
     },
     "output_type": "display_data"
    }
   ],
   "source": [
    "tree_y_pred = tree_clf.predict(X_test)\n",
    "TREECM = confusion_matrix(y_test, tree_y_pred)\n",
    "\n",
    "f, axes = plt.subplots(figsize=(8, 5), dpi = 100)\n",
    "sns.heatmap(TREECM, annot = True, fmt = 'd', vmin = 0 , vmax = 150, cmap = 'YlGnBu')\n",
    "axes.set_title('Decision Tree')\n",
    "axes.set_xlabel('Features')"
   ]
  },
  {
   "cell_type": "markdown",
   "metadata": {},
   "source": [
    "### Boosting based on Decision Tree and HistGradientBoostingClassifier"
   ]
  },
  {
   "cell_type": "code",
   "execution_count": null,
   "metadata": {},
   "outputs": [],
   "source": [
    "rate = []\n",
    "for i in range(10):\n",
    "    rate.append(0.01 + i*0.02)\n",
    "\n",
    "score_train, score_test = [], []\n",
    "for x in rate:\n",
    "    Boosting_clf = HistGradientBoostingClassifier(random_state=0, learning_rate=x)\n",
    "    Boosting_clf.fit(X_train, y_train)\n",
    "    score_tr = accuracy_score(y_train, Boosting_clf.predict(X_train))\n",
    "    score_te = accuracy_score(y_test, Boosting_clf.predict(X_test))\n",
    "    score_train.append(score_tr)\n",
    "    score_test.append(score_te)"
   ]
  },
  {
   "cell_type": "code",
   "execution_count": null,
   "metadata": {},
   "outputs": [],
   "source": [
    "fig, ax = plt.subplots(figsize = (6,4), dpi = 100)\n",
    "ax.set_xlabel(\"learning rate\", fontsize=13)\n",
    "ax.set_ylabel(\"prediction score\", fontsize=13)\n",
    "ax.set_title(\"accuracy vs learning rate for HistGradientBoosting\", fontsize=15)\n",
    "ax.plot(rate, score_train, marker='o', label=\"train\",\n",
    "        drawstyle=\"steps-post\")\n",
    "ax.plot(rate, score_test, marker='o', label=\"test\",\n",
    "        drawstyle=\"steps-post\")\n",
    "ax.legend()\n",
    "plt.show()"
   ]
  },
  {
   "cell_type": "code",
   "execution_count": null,
   "metadata": {},
   "outputs": [],
   "source": [
    "regular = []\n",
    "for i in range(16):\n",
    "    regular.append(0.01 + i*0.02)\n",
    "\n",
    "sc_train, sc_test = [], []\n",
    "for x in regular:\n",
    "    Boosting_clf = HistGradientBoostingClassifier(random_state=0, learning_rate=0.08, l2_regularization = x)\n",
    "    Boosting_clf.fit(X_train, y_train)\n",
    "    score_tr = accuracy_score(y_train, Boosting_clf.predict(X_train))\n",
    "    score_te = accuracy_score(y_test, Boosting_clf.predict(X_test))\n",
    "    sc_train.append(score_tr)\n",
    "    sc_test.append(score_te)"
   ]
  },
  {
   "cell_type": "code",
   "execution_count": null,
   "metadata": {},
   "outputs": [],
   "source": [
    "fig, ax = plt.subplots(figsize = (6,4), dpi = 100)\n",
    "ax.set_xlabel(\"regularization\", fontsize=13)\n",
    "ax.set_ylabel(\"prediction score\", fontsize=13)\n",
    "ax.set_title(\"accuracy vs regularization for HistGradientBoosting\", fontsize=15)\n",
    "ax.plot(regular, sc_train, marker='o', label=\"train\")\n",
    "ax.plot(regular, sc_test, marker='o', label=\"test\")\n",
    "ax.legend()\n",
    "plt.show()"
   ]
  },
  {
   "cell_type": "code",
   "execution_count": 9,
   "metadata": {},
   "outputs": [
    {
     "name": "stdout",
     "output_type": "stream",
     "text": [
      "0.87775 0.8789\n"
     ]
    }
   ],
   "source": [
    "Boosting_clf = HistGradientBoostingClassifier(random_state=0, learning_rate=0.07, l2_regularization = 0.06)\n",
    "Boosting_clf.fit(X_train, y_train)\n",
    "score_tr = accuracy_score(y_train, Boosting_clf.predict(X_train))\n",
    "score_te = accuracy_score(y_test, Boosting_clf.predict(X_test))\n",
    "print(score_tr, score_te)"
   ]
  },
  {
   "cell_type": "code",
   "execution_count": 10,
   "metadata": {},
   "outputs": [
    {
     "data": {
      "text/plain": [
       "Text(0.5, 33.22222222222222, 'Features')"
      ]
     },
     "execution_count": 10,
     "metadata": {},
     "output_type": "execute_result"
    },
    {
     "data": {
      "image/png": "[encoded data removed]",
      "text/plain": [
       "<Figure size 800x500 with 2 Axes>"
      ]
     },
     "metadata": {
      "needs_background": "light"
     },
     "output_type": "display_data"
    }
   ],
   "source": [
    "tree_y_pred = Boosting_clf.predict(X_test)\n",
    "TREECM = confusion_matrix(y_test, tree_y_pred)\n",
    "\n",
    "f, axes = plt.subplots(figsize=(8, 5), dpi = 100)\n",
    "sns.heatmap(TREECM, annot = True, fmt = 'd', vmin = 0 , vmax = 150, cmap = 'YlGnBu')\n",
    "axes.set_title('Decision Tree')\n",
    "axes.set_xlabel('Features')"
   ]
  },
  {
   "cell_type": "markdown",
   "metadata": {},
   "source": [
    "### Boosting based on Decision Tree and GradientBoostingClassifier"
   ]
  },
  {
   "cell_type": "code",
   "execution_count": null,
   "metadata": {},
   "outputs": [],
   "source": [
    "learn_rate = []\n",
    "for i in range(4):\n",
    "    learn_rate.append(0.01 + i*0.02)\n",
    "\n",
    "score_tr_learn, score_te_learn = [], []\n",
    "for x in learn_rate:\n",
    "    Boosting_clf = GradientBoostingClassifier(random_state=0, learning_rate=x)\n",
    "    Boosting_clf.fit(X_train, y_train)\n",
    "    score_tr = accuracy_score(y_train, Boosting_clf.predict(X_train))\n",
    "    score_te = accuracy_score(y_test, Boosting_clf.predict(X_test))\n",
    "    score_tr_learn.append(score_tr)\n",
    "    score_te_learn.append(score_te)"
   ]
  },
  {
   "cell_type": "code",
   "execution_count": null,
   "metadata": {},
   "outputs": [],
   "source": [
    "fig, ax = plt.subplots(figsize = (6,4), dpi = 100)\n",
    "ax.set_xlabel(\"learning rate\", fontsize=13)\n",
    "ax.set_ylabel(\"prediction score\", fontsize=13)\n",
    "ax.set_title(\"accuracy vs learning rate for GradientBoostingClassifier\", fontsize=15)\n",
    "ax.plot(learn_rate, score_tr_learn, marker='o', label=\"train\")\n",
    "ax.plot(learn_rate, score_te_learn, marker='o', label=\"test\")\n",
    "ax.legend()\n",
    "plt.show()"
   ]
  },
  {
   "cell_type": "code",
   "execution_count": null,
   "metadata": {},
   "outputs": [],
   "source": [
    "rate = []\n",
    "for i in range(4):\n",
    "    rate.append(0.0 + i*0.0002)\n",
    "\n",
    "score_train, score_test = [], []\n",
    "for x in rate:\n",
    "    Boosting_clf = GradientBoostingClassifier(random_state=0, ccp_alpha=x, learning_rate=0.08)\n",
    "    Boosting_clf.fit(X_train, y_train)\n",
    "    score_tr = accuracy_score(y_train, Boosting_clf.predict(X_train))\n",
    "    score_te = accuracy_score(y_test, Boosting_clf.predict(X_test))\n",
    "    score_train.append(score_tr)\n",
    "    score_test.append(score_te)"
   ]
  },
  {
   "cell_type": "code",
   "execution_count": null,
   "metadata": {},
   "outputs": [],
   "source": [
    "fig, ax = plt.subplots(figsize = (6,4), dpi = 100)\n",
    "ax.set_xlabel(\"ccp_alpha\", fontsize=13)\n",
    "ax.set_ylabel(\"prediction score\", fontsize=13)\n",
    "ax.set_title(\"accuracy vs pruning rate for GradientBoostingClassifier\", fontsize=15)\n",
    "ax.plot(rate, score_train, marker='o', label=\"train\")\n",
    "ax.plot(rate, score_test, marker='o', label=\"test\")\n",
    "ax.legend()\n",
    "plt.show()"
   ]
  },
  {
   "cell_type": "code",
   "execution_count": null,
   "metadata": {},
   "outputs": [],
   "source": [
    "Boosting_clf = GradientBoostingClassifier(random_state=0, ccp_alpha=0.0012, learning_rate=0.08)\n",
    "Boosting_clf.fit(X_train, y_train)\n",
    "score_train = accuracy_score(y_train, Boosting_clf.predict(X_train))\n",
    "score_test = accuracy_score(y_test, Boosting_clf.predict(X_test))\n",
    "print(score_train, score_test)"
   ]
  },
  {
   "cell_type": "code",
   "execution_count": null,
   "metadata": {},
   "outputs": [],
   "source": [
    "tree_y_pred = Boosting_clf.predict(X_test)\n",
    "TREECM = confusion_matrix(y_test, tree_y_pred)\n",
    "\n",
    "f, axes = plt.subplots(figsize=(8, 5), dpi = 100)\n",
    "sns.heatmap(TREECM, annot = True, fmt = 'd', vmin = 0 , vmax = 150, cmap = 'YlGnBu')\n",
    "axes.set_title('Decision Tree')\n",
    "axes.set_xlabel('Features')"
   ]
  },
  {
   "cell_type": "markdown",
   "metadata": {},
   "source": [
    "### Test of dataset size"
   ]
  },
  {
   "cell_type": "code",
   "execution_count": null,
   "metadata": {},
   "outputs": [],
   "source": [
    "features = ['gender', 'age', 'dl', 'region_code', 'insured', 'vehicle_age', 'damage', 'premium', 'channel', 'vintage']\n",
    "X = data_set[features]\n",
    "y = data_set['response'].values"
   ]
  },
  {
   "cell_type": "code",
   "execution_count": null,
   "metadata": {},
   "outputs": [],
   "source": [
    "test_sizes = [0.1, 0.2, 0.3, 0.4, 0.5, 0.6, 0.7, 0.8, 0.9]\n",
    "size = len(test_sizes)\n",
    "score_train, score_test = [], []\n",
    "for x in test_sizes:\n",
    "    print(x)\n",
    "    np.random.seed(42)\n",
    "    X_train, X_test, y_train, y_test = train_test_split(X, y, test_size = x)\n",
    "    \n",
    "    Boosting_clf = GradientBoostingClassifier(random_state=0, ccp_alpha=0.0012, learning_rate=0.08)\n",
    "    Boosting_clf.fit(X_train, y_train)\n",
    "    score_tr = accuracy_score(y_train, Boosting_clf.predict(X_train))\n",
    "    score_te = accuracy_score(y_test, Boosting_clf.predict(X_test))\n",
    "    score_train.append(score_tr)\n",
    "    score_test.append(score_te)"
   ]
  },
  {
   "cell_type": "code",
   "execution_count": null,
   "metadata": {},
   "outputs": [],
   "source": [
    "fig, ax = plt.subplots(figsize = (6,4), dpi = 100)\n",
    "ax.set_xlabel(\"dataset percentage of testing data\", fontsize=13)\n",
    "ax.set_ylabel(\"prediction score\", fontsize=13)\n",
    "ax.set_title(\"accuracy vs dataset size for training and testing sets\", fontsize=15)\n",
    "ax.plot(test_sizes, score_train, marker='o', label=\"train\")\n",
    "ax.plot(test_sizes, score_test, marker='o', label=\"test\")\n",
    "ax.legend()\n",
    "plt.show()"
   ]
  },
  {
   "cell_type": "code",
   "execution_count": 14,
   "metadata": {},
   "outputs": [
    {
     "name": "stdout",
     "output_type": "stream",
     "text": [
      "0.8777 0.8769111111111111\n"
     ]
    }
   ],
   "source": [
    "X_train, X_test, y_train, y_test = train_test_split(X, y, test_size = 0.9)\n",
    "Boosting_clf = GradientBoostingClassifier(random_state=0, ccp_alpha=0.0012, learning_rate=0.08)\n",
    "Boosting_clf.fit(X_train, y_train)\n",
    "score_tr = accuracy_score(y_train, Boosting_clf.predict(X_train))\n",
    "score_te = accuracy_score(y_test, Boosting_clf.predict(X_test))\n",
    "print(score_tr, score_te)"
   ]
  },
  {
   "cell_type": "code",
   "execution_count": null,
   "metadata": {},
   "outputs": [],
   "source": [
    "tree_y_pred = Boosting_clf.predict(X_test)\n",
    "TREECM = confusion_matrix(y_test, tree_y_pred)\n",
    "\n",
    "f, axes = plt.subplots(figsize=(8, 5), dpi = 100)\n",
    "sns.heatmap(TREECM, annot = True, fmt = 'd', vmin = 0 , vmax = 150, cmap = 'YlGnBu')\n",
    "axes.set_title('Decision Tree')\n",
    "axes.set_xlabel('Features')"
   ]
  },
  {
   "cell_type": "code",
   "execution_count": 11,
   "metadata": {},
   "outputs": [
    {
     "name": "stdout",
     "output_type": "stream",
     "text": [
      "0.009094667217858619\n"
     ]
    }
   ],
   "source": [
    "print(22 / (22 + 2397))"
   ]
  },
  {
   "cell_type": "code",
   "execution_count": null,
   "metadata": {},
   "outputs": [],
   "source": []
  }
 ],
 "metadata": {
  "kernelspec": {
   "display_name": "Python 3",
   "language": "python",
   "name": "python3"
  },
  "language_info": {
   "codemirror_mode": {
    "name": "ipython",
    "version": 3
   },
   "file_extension": ".py",
   "mimetype": "text/x-python",
   "name": "python",
   "nbconvert_exporter": "python",
   "pygments_lexer": "ipython3",
   "version": "3.7.8"
  }
 },
 "nbformat": 4,
 "nbformat_minor": 4
}
