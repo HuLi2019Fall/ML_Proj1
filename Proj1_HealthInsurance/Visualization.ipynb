{
 "cells": [
  {
   "cell_type": "code",
   "execution_count": null,
   "metadata": {},
   "outputs": [],
   "source": [
    "import pandas as pd\n",
    "import numpy as np\n",
    "\n",
    "from numpy import mean\n",
    "from numpy import set_printoptions\n",
    "import matplotlib.pyplot as plt\n",
    "from matplotlib import pyplot\n",
    "import matplotlib\n",
    "import seaborn as sns\n",
    "plt.style.use('seaborn-darkgrid')\n",
    "\n",
    "from sklearn.preprocessing import StandardScaler\n",
    "\n",
    "from sklearn.model_selection import train_test_split\n",
    "from sklearn.metrics import accuracy_score\n",
    "from sklearn.tree import DecisionTreeClassifier\n",
    "from sklearn.tree import export_graphviz\n",
    "from sklearn.metrics import confusion_matrix\n",
    "\n",
    "import graphviz\n",
    "import pydotplus\n",
    "import io\n",
    "import imageio\n",
    "import math\n",
    "\n",
    "import tensorflow as tf\n",
    "from tensorflow import keras\n",
    "from tensorflow.keras.optimizers import SGD\n",
    "from tensorflow.keras.callbacks import Callback\n",
    "from tensorflow.keras import layers\n",
    "from tensorflow.keras import regularizers\n",
    "from tensorflow.keras.layers import Dropout"
   ]
  },
  {
   "cell_type": "code",
   "execution_count": null,
   "metadata": {},
   "outputs": [],
   "source": [
    "print(pd.__version__)\n",
    "print(np.__version__)\n",
    "print(matplotlib.__version__)\n",
    "print(sns.__version__)\n",
    "print(graphviz.__version__)\n",
    "print(imageio.__version__)\n",
    "print(tf.__version__)\n",
    "print(keras.__version__)\n",
    "print(sklearn.__version__)"
   ]
  },
  {
   "cell_type": "code",
   "execution_count": null,
   "metadata": {},
   "outputs": [],
   "source": [
    "path = \"Data\\cross_sell.csv\"\n",
    "data_set = pd.read_csv(path)"
   ]
  },
  {
   "cell_type": "code",
   "execution_count": null,
   "metadata": {},
   "outputs": [],
   "source": [
    "data_set"
   ]
  },
  {
   "cell_type": "code",
   "execution_count": null,
   "metadata": {},
   "outputs": [],
   "source": [
    "data_set['response'].value_counts()"
   ]
  },
  {
   "cell_type": "code",
   "execution_count": null,
   "metadata": {},
   "outputs": [],
   "source": [
    "#  Response distribution\n",
    "fig, axes = plt.subplots(figsize = (4, 3), dpi = 100)\n",
    "plt.tight_layout()\n",
    "data_set.groupby('response').count()['id'].plot(kind = 'pie', labels = ['Not Interested (87.7%)', 'Interested (12.1%)'])\n",
    "axes.set_ylabel('')\n",
    "axes.tick_params(axis = 'x', labelsize = 12)\n",
    "axes.tick_params(axis = 'y', labelsize = 12)\n",
    "axes.set_title('Label Distribution in Data Set', fontsize = 12)\n",
    "plt.show()"
   ]
  },
  {
   "cell_type": "code",
   "execution_count": null,
   "metadata": {},
   "outputs": [],
   "source": [
    "counter = data_set['gender'].value_counts()\n",
    "print(counter['Male']/(data_set.count()['id']))\n",
    "print(counter['Female']/(data_set.count()['id']))"
   ]
  },
  {
   "cell_type": "code",
   "execution_count": null,
   "metadata": {},
   "outputs": [],
   "source": [
    "#  Gender distribution\n",
    "fig, axes = plt.subplots(figsize = (4, 3), dpi = 100)\n",
    "plt.tight_layout()\n",
    "data_set.groupby('gender').count()['id'].plot(kind = 'pie', labels = ['Female (46%)', 'Male (54%)'])\n",
    "axes.set_ylabel('')\n",
    "axes.tick_params(axis = 'x', labelsize = 12)\n",
    "axes.tick_params(axis = 'y', labelsize = 12)\n",
    "axes.set_title('Gender Distribution in Data Set', fontsize = 12)\n",
    "plt.show()"
   ]
  },
  {
   "cell_type": "code",
   "execution_count": null,
   "metadata": {},
   "outputs": [],
   "source": [
    "# Distribution of age\n",
    "\n",
    "plt.rcParams['figure.figsize'] = (18, 7)\n",
    "color = plt.cm.copper(np.linspace(0, 1, 66))\n",
    "data_set['age'].value_counts().head(66).plot.bar(color = color)\n",
    "plt.title('Age distribution', fontsize = 25)\n",
    "plt.xticks(rotation = 90)\n",
    "plt.show()"
   ]
  },
  {
   "cell_type": "code",
   "execution_count": null,
   "metadata": {},
   "outputs": [],
   "source": [
    "# Distribution of region code\n",
    "\n",
    "plt.rcParams['figure.figsize'] = (18, 7)\n",
    "color = plt.cm.copper(np.linspace(0, 1, 66))\n",
    "data_set['region_code'].value_counts().head(66).plot.bar(color = color)\n",
    "plt.title('region code distribution', fontsize = 25)\n",
    "plt.xticks(rotation = 90)\n",
    "plt.show()"
   ]
  },
  {
   "cell_type": "code",
   "execution_count": null,
   "metadata": {},
   "outputs": [],
   "source": [
    "#  insured\n",
    "print(data_set['insured'].value_counts())\n",
    "counter = data_set['insured'].value_counts()\n",
    "print(counter[0]/(data_set.count()['id']))\n",
    "print(counter[1]/(data_set.count()['id']))"
   ]
  },
  {
   "cell_type": "code",
   "execution_count": null,
   "metadata": {},
   "outputs": [],
   "source": [
    "#  Gender distribution\n",
    "fig, axes = plt.subplots(figsize = (4, 3), dpi = 100)\n",
    "plt.tight_layout()\n",
    "data_set.groupby('insured').count()['id'].plot(kind = 'pie', labels = ['Uninsured (54.2%)', 'Insured (45.8%)'])\n",
    "axes.set_ylabel('')\n",
    "axes.tick_params(axis = 'x', labelsize = 12)\n",
    "axes.tick_params(axis = 'y', labelsize = 12)\n",
    "axes.set_title('Insured Distribution in Data Set', fontsize = 12)\n",
    "plt.show()"
   ]
  },
  {
   "cell_type": "code",
   "execution_count": null,
   "metadata": {},
   "outputs": [],
   "source": [
    "f, ax = plt.subplots(figsize=(8, 5), dpi = 100)\n",
    "ax.set(xscale='log')\n",
    "sns.distplot(data_set['premium'])\n",
    "plt.title('Annual Premium distribution', fontsize = 20)\n",
    "plt.show()"
   ]
  },
  {
   "cell_type": "code",
   "execution_count": null,
   "metadata": {},
   "outputs": [],
   "source": [
    "plt.figure(figsize = (8, 5), dpi = 100)\n",
    "sns.distplot(data_set['vintage'])\n",
    "plt.title('No. of days customer was associated with the company', fontsize = 20)\n",
    "plt.show()"
   ]
  },
  {
   "cell_type": "code",
   "execution_count": null,
   "metadata": {},
   "outputs": [],
   "source": [
    "#  vehicle_age\n",
    "print(data_set['vehicle_age'].value_counts())\n",
    "counter = data_set['vehicle_age'].value_counts()\n",
    "print(counter['< 1 Year']/(data_set.count()['id']))\n",
    "print(counter['1-2 Year']/(data_set.count()['id']))\n",
    "print(counter['> 2 Years']/(data_set.count()['id']))"
   ]
  },
  {
   "cell_type": "code",
   "execution_count": null,
   "metadata": {},
   "outputs": [],
   "source": [
    "#  vehicle_age distribution\n",
    "fig, axes = plt.subplots(figsize = (4, 3), dpi = 100)\n",
    "plt.tight_layout()\n",
    "data_set.groupby('vehicle_age').count()['id'].plot(kind = 'pie', labels = ['< 1 Year (52.6%)', '1-2 Year (43.2%)', '> 2 Years (4.2%)'])\n",
    "axes.set_ylabel('')\n",
    "axes.tick_params(axis = 'x', labelsize = 12)\n",
    "axes.tick_params(axis = 'y', labelsize = 12)\n",
    "axes.set_title('Vehicle Age Distribution in Data Set', fontsize = 12)\n",
    "plt.show()"
   ]
  },
  {
   "cell_type": "code",
   "execution_count": null,
   "metadata": {},
   "outputs": [],
   "source": [
    "#  damage\n",
    "print(data_set['damage'].value_counts())\n",
    "counter = data_set['damage'].value_counts()\n",
    "print(counter['Yes']/(data_set.count()['id']))\n",
    "print(counter['No']/(data_set.count()['id']))"
   ]
  },
  {
   "cell_type": "code",
   "execution_count": null,
   "metadata": {},
   "outputs": [],
   "source": [
    "#  vehicle damage distribution\n",
    "fig, axes = plt.subplots(figsize = (4, 3), dpi = 100)\n",
    "plt.tight_layout()\n",
    "data_set.groupby('damage').count()['id'].plot(kind = 'pie', labels = ['Have Damage (50.5%)', 'No Damage (49.5%)'])\n",
    "axes.set_ylabel('')\n",
    "axes.tick_params(axis = 'x', labelsize = 12)\n",
    "axes.tick_params(axis = 'y', labelsize = 12)\n",
    "axes.set_title('Vehicle Damage Distribution in Data Set', fontsize = 12)\n",
    "plt.show()"
   ]
  },
  {
   "cell_type": "code",
   "execution_count": null,
   "metadata": {},
   "outputs": [],
   "source": [
    "#  channel\n",
    "\n",
    "plt.rcParams['figure.figsize'] = (18, 7)\n",
    "color = plt.cm.copper(np.linspace(0, 1, 66))\n",
    "data_set['channel'].value_counts().head(66).plot.bar(color = color)\n",
    "plt.title('Policy Sales Channel distribution', fontsize = 25)\n",
    "plt.xticks(rotation = 90)\n",
    "plt.show()"
   ]
  },
  {
   "cell_type": "code",
   "execution_count": null,
   "metadata": {},
   "outputs": [],
   "source": []
  }
 ],
 "metadata": {
  "kernelspec": {
   "display_name": "Python 3",
   "language": "python",
   "name": "python3"
  },
  "language_info": {
   "codemirror_mode": {
    "name": "ipython",
    "version": 3
   },
   "file_extension": ".py",
   "mimetype": "text/x-python",
   "name": "python",
   "nbconvert_exporter": "python",
   "pygments_lexer": "ipython3",
   "version": "3.7.8"
  }
 },
 "nbformat": 4,
 "nbformat_minor": 4
}
